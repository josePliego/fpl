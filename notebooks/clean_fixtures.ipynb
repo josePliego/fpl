{
 "cells": [
  {
   "cell_type": "code",
   "execution_count": 1,
   "id": "dd663443",
   "metadata": {},
   "outputs": [],
   "source": [
    "import os\n",
    "from pathlib import Path\n",
    "\n",
    "import polars as pl\n",
    "\n",
    "os.chdir(Path().cwd().parent)"
   ]
  },
  {
   "cell_type": "code",
   "execution_count": 2,
   "id": "302215d3",
   "metadata": {},
   "outputs": [],
   "source": [
    "df_teams = pl.read_json(\"data/teams/2025-07-25.json\")\n",
    "team_mappings = dict(df_teams.select([\"id\", \"short_name\"]).iter_rows())"
   ]
  },
  {
   "cell_type": "code",
   "execution_count": 3,
   "id": "d09b01e7",
   "metadata": {},
   "outputs": [
    {
     "data": {
      "text/html": [
       "<div><style>\n",
       ".dataframe > thead > tr,\n",
       ".dataframe > tbody > tr {\n",
       "  text-align: right;\n",
       "  white-space: pre-wrap;\n",
       "}\n",
       "</style>\n",
       "<small>shape: (5, 17)</small><table border=\"1\" class=\"dataframe\"><thead><tr><th>code</th><th>event</th><th>finished</th><th>finished_provisional</th><th>id</th><th>kickoff_time</th><th>minutes</th><th>provisional_start_time</th><th>pulse_id</th><th>started</th><th>stats</th><th>team_a</th><th>team_a_difficulty</th><th>team_a_score</th><th>team_h</th><th>team_h_difficulty</th><th>team_h_score</th></tr><tr><td>i64</td><td>i64</td><td>bool</td><td>bool</td><td>i64</td><td>str</td><td>i64</td><td>bool</td><td>i64</td><td>bool</td><td>list[null]</td><td>i64</td><td>i64</td><td>null</td><td>i64</td><td>i64</td><td>null</td></tr></thead><tbody><tr><td>2561895</td><td>1</td><td>false</td><td>false</td><td>1</td><td>&quot;2025-08-15T19:00:00Z&quot;</td><td>0</td><td>false</td><td>124791</td><td>false</td><td>[]</td><td>4</td><td>5</td><td>null</td><td>12</td><td>3</td><td>null</td></tr><tr><td>2561896</td><td>1</td><td>false</td><td>false</td><td>2</td><td>&quot;2025-08-16T11:30:00Z&quot;</td><td>0</td><td>false</td><td>124792</td><td>false</td><td>[]</td><td>15</td><td>4</td><td>null</td><td>2</td><td>3</td><td>null</td></tr><tr><td>2561897</td><td>1</td><td>false</td><td>false</td><td>3</td><td>&quot;2025-08-16T14:00:00Z&quot;</td><td>0</td><td>false</td><td>124793</td><td>false</td><td>[]</td><td>10</td><td>3</td><td>null</td><td>6</td><td>3</td><td>null</td></tr><tr><td>2561900</td><td>1</td><td>false</td><td>false</td><td>6</td><td>&quot;2025-08-16T14:00:00Z&quot;</td><td>0</td><td>false</td><td>124796</td><td>false</td><td>[]</td><td>3</td><td>3</td><td>null</td><td>18</td><td>2</td><td>null</td></tr><tr><td>2561899</td><td>1</td><td>false</td><td>false</td><td>5</td><td>&quot;2025-08-16T14:00:00Z&quot;</td><td>0</td><td>false</td><td>124795</td><td>false</td><td>[]</td><td>19</td><td>2</td><td>null</td><td>17</td><td>2</td><td>null</td></tr></tbody></table></div>"
      ],
      "text/plain": [
       "shape: (5, 17)\n",
       "┌─────────┬───────┬──────────┬──────────────┬───┬─────────────┬────────┬─────────────┬─────────────┐\n",
       "│ code    ┆ event ┆ finished ┆ finished_pro ┆ … ┆ team_a_scor ┆ team_h ┆ team_h_diff ┆ team_h_scor │\n",
       "│ ---     ┆ ---   ┆ ---      ┆ visional     ┆   ┆ e           ┆ ---    ┆ iculty      ┆ e           │\n",
       "│ i64     ┆ i64   ┆ bool     ┆ ---          ┆   ┆ ---         ┆ i64    ┆ ---         ┆ ---         │\n",
       "│         ┆       ┆          ┆ bool         ┆   ┆ null        ┆        ┆ i64         ┆ null        │\n",
       "╞═════════╪═══════╪══════════╪══════════════╪═══╪═════════════╪════════╪═════════════╪═════════════╡\n",
       "│ 2561895 ┆ 1     ┆ false    ┆ false        ┆ … ┆ null        ┆ 12     ┆ 3           ┆ null        │\n",
       "│ 2561896 ┆ 1     ┆ false    ┆ false        ┆ … ┆ null        ┆ 2      ┆ 3           ┆ null        │\n",
       "│ 2561897 ┆ 1     ┆ false    ┆ false        ┆ … ┆ null        ┆ 6      ┆ 3           ┆ null        │\n",
       "│ 2561900 ┆ 1     ┆ false    ┆ false        ┆ … ┆ null        ┆ 18     ┆ 2           ┆ null        │\n",
       "│ 2561899 ┆ 1     ┆ false    ┆ false        ┆ … ┆ null        ┆ 17     ┆ 2           ┆ null        │\n",
       "└─────────┴───────┴──────────┴──────────────┴───┴─────────────┴────────┴─────────────┴─────────────┘"
      ]
     },
     "execution_count": 3,
     "metadata": {},
     "output_type": "execute_result"
    }
   ],
   "source": [
    "df_fixtures = pl.read_json(\"data/fixtures/2025-07-23.json\")\n",
    "df_fixtures.head()"
   ]
  },
  {
   "cell_type": "code",
   "execution_count": 4,
   "id": "124e2259",
   "metadata": {},
   "outputs": [
    {
     "data": {
      "text/html": [
       "<div><style>\n",
       ".dataframe > thead > tr,\n",
       ".dataframe > tbody > tr {\n",
       "  text-align: right;\n",
       "  white-space: pre-wrap;\n",
       "}\n",
       "</style>\n",
       "<small>shape: (2, 5)</small><table border=\"1\" class=\"dataframe\"><thead><tr><th>event</th><th>team_a</th><th>team_h</th><th>variable</th><th>value</th></tr><tr><td>i64</td><td>i64</td><td>i64</td><td>str</td><td>i64</td></tr></thead><tbody><tr><td>1</td><td>1</td><td>14</td><td>&quot;team_h_difficulty&quot;</td><td>4</td></tr><tr><td>1</td><td>1</td><td>14</td><td>&quot;team_a_difficulty&quot;</td><td>3</td></tr></tbody></table></div>"
      ],
      "text/plain": [
       "shape: (2, 5)\n",
       "┌───────┬────────┬────────┬───────────────────┬───────┐\n",
       "│ event ┆ team_a ┆ team_h ┆ variable          ┆ value │\n",
       "│ ---   ┆ ---    ┆ ---    ┆ ---               ┆ ---   │\n",
       "│ i64   ┆ i64    ┆ i64    ┆ str               ┆ i64   │\n",
       "╞═══════╪════════╪════════╪═══════════════════╪═══════╡\n",
       "│ 1     ┆ 1      ┆ 14     ┆ team_h_difficulty ┆ 4     │\n",
       "│ 1     ┆ 1      ┆ 14     ┆ team_a_difficulty ┆ 3     │\n",
       "└───────┴────────┴────────┴───────────────────┴───────┘"
      ]
     },
     "execution_count": 4,
     "metadata": {},
     "output_type": "execute_result"
    }
   ],
   "source": [
    "(\n",
    "    df_fixtures.select(\n",
    "        [\"event\", \"team_a\", \"team_a_difficulty\", \"team_h\", \"team_h_difficulty\"]\n",
    "    )\n",
    "    .unpivot(\n",
    "        on=[\"team_h_difficulty\", \"team_a_difficulty\"], index=[\"event\", \"team_a\", \"team_h\"]\n",
    "    )\n",
    "    .filter(pl.col(\"event\") == 1)\n",
    "    .filter((pl.col(\"team_a\") == 1) | (pl.col(\"team_h\") == 1))\n",
    ")"
   ]
  },
  {
   "cell_type": "code",
   "execution_count": 5,
   "id": "137d4549",
   "metadata": {},
   "outputs": [],
   "source": [
    "def get_team_fixtures(fixtures: pl.DataFrame, team: int):\n",
    "    output = (\n",
    "        fixtures.filter((pl.col(\"team_h\") == team) | (pl.col(\"team_a\") == team))\n",
    "        .with_columns(\n",
    "            pl.when(pl.col(\"team_h\") == team)\n",
    "            .then(pl.lit(True))\n",
    "            .otherwise(pl.lit(False))\n",
    "            .alias(\"home\"),\n",
    "            pl.when(pl.col(\"team_h\") == team)\n",
    "            .then(pl.col(\"team_h_difficulty\"))\n",
    "            .otherwise(pl.col(\"team_a_difficulty\"))\n",
    "            .alias(\"difficulty\"),\n",
    "            pl.when(pl.col(\"team_h\") == team)\n",
    "            .then(pl.col(\"team_h\"))\n",
    "            .otherwise(pl.col(\"team_a\"))\n",
    "            .replace_strict(team_mappings)\n",
    "            .alias(\"team\"),\n",
    "            pl.when(pl.col(\"team_h\") == team)\n",
    "            .then(pl.col(\"team_a\"))\n",
    "            .otherwise(pl.col(\"team_h\"))\n",
    "            .replace_strict(team_mappings)\n",
    "            .alias(\"opponent\"),\n",
    "        )\n",
    "        .select([\"event\", \"team\", \"opponent\", \"home\", \"difficulty\"])\n",
    "        .rename({\"event\": \"gameweek\"})\n",
    "    )\n",
    "\n",
    "    return output"
   ]
  },
  {
   "cell_type": "code",
   "execution_count": 6,
   "id": "5c21defb",
   "metadata": {},
   "outputs": [],
   "source": [
    "team_fixtures = {}\n",
    "for idx, team in team_mappings.items():\n",
    "    team_fixtures[team] = get_team_fixtures(df_fixtures, team=idx)"
   ]
  },
  {
   "cell_type": "code",
   "execution_count": 7,
   "id": "e3d15774",
   "metadata": {},
   "outputs": [
    {
     "data": {
      "text/html": [
       "<div><style>\n",
       ".dataframe > thead > tr,\n",
       ".dataframe > tbody > tr {\n",
       "  text-align: right;\n",
       "  white-space: pre-wrap;\n",
       "}\n",
       "</style>\n",
       "<small>shape: (38, 5)</small><table border=\"1\" class=\"dataframe\"><thead><tr><th>gameweek</th><th>team</th><th>opponent</th><th>home</th><th>difficulty</th></tr><tr><td>i64</td><td>str</td><td>str</td><td>bool</td><td>i64</td></tr></thead><tbody><tr><td>1</td><td>&quot;CHE&quot;</td><td>&quot;CRY&quot;</td><td>true</td><td>3</td></tr><tr><td>2</td><td>&quot;CHE&quot;</td><td>&quot;WHU&quot;</td><td>false</td><td>2</td></tr><tr><td>3</td><td>&quot;CHE&quot;</td><td>&quot;FUL&quot;</td><td>true</td><td>3</td></tr><tr><td>4</td><td>&quot;CHE&quot;</td><td>&quot;BRE&quot;</td><td>false</td><td>3</td></tr><tr><td>5</td><td>&quot;CHE&quot;</td><td>&quot;MUN&quot;</td><td>false</td><td>3</td></tr><tr><td>&hellip;</td><td>&hellip;</td><td>&hellip;</td><td>&hellip;</td><td>&hellip;</td></tr><tr><td>34</td><td>&quot;CHE&quot;</td><td>&quot;BHA&quot;</td><td>false</td><td>3</td></tr><tr><td>35</td><td>&quot;CHE&quot;</td><td>&quot;NFO&quot;</td><td>true</td><td>3</td></tr><tr><td>36</td><td>&quot;CHE&quot;</td><td>&quot;LIV&quot;</td><td>false</td><td>5</td></tr><tr><td>37</td><td>&quot;CHE&quot;</td><td>&quot;TOT&quot;</td><td>true</td><td>3</td></tr><tr><td>38</td><td>&quot;CHE&quot;</td><td>&quot;SUN&quot;</td><td>false</td><td>2</td></tr></tbody></table></div>"
      ],
      "text/plain": [
       "shape: (38, 5)\n",
       "┌──────────┬──────┬──────────┬───────┬────────────┐\n",
       "│ gameweek ┆ team ┆ opponent ┆ home  ┆ difficulty │\n",
       "│ ---      ┆ ---  ┆ ---      ┆ ---   ┆ ---        │\n",
       "│ i64      ┆ str  ┆ str      ┆ bool  ┆ i64        │\n",
       "╞══════════╪══════╪══════════╪═══════╪════════════╡\n",
       "│ 1        ┆ CHE  ┆ CRY      ┆ true  ┆ 3          │\n",
       "│ 2        ┆ CHE  ┆ WHU      ┆ false ┆ 2          │\n",
       "│ 3        ┆ CHE  ┆ FUL      ┆ true  ┆ 3          │\n",
       "│ 4        ┆ CHE  ┆ BRE      ┆ false ┆ 3          │\n",
       "│ 5        ┆ CHE  ┆ MUN      ┆ false ┆ 3          │\n",
       "│ …        ┆ …    ┆ …        ┆ …     ┆ …          │\n",
       "│ 34       ┆ CHE  ┆ BHA      ┆ false ┆ 3          │\n",
       "│ 35       ┆ CHE  ┆ NFO      ┆ true  ┆ 3          │\n",
       "│ 36       ┆ CHE  ┆ LIV      ┆ false ┆ 5          │\n",
       "│ 37       ┆ CHE  ┆ TOT      ┆ true  ┆ 3          │\n",
       "│ 38       ┆ CHE  ┆ SUN      ┆ false ┆ 2          │\n",
       "└──────────┴──────┴──────────┴───────┴────────────┘"
      ]
     },
     "execution_count": 7,
     "metadata": {},
     "output_type": "execute_result"
    }
   ],
   "source": [
    "team_fixtures[\"CHE\"]"
   ]
  },
  {
   "cell_type": "code",
   "execution_count": null,
   "id": "619985cd",
   "metadata": {},
   "outputs": [],
   "source": [
    "def avg_difficulty(team_fixtures: pl.DataFrame, n_gameweeks: int, current_gw: int = 1):\n",
    "    output = (\n",
    "        team_fixtures.filter(pl.col(\"gameweek\") >= current_gw)\n",
    "        .with_columns(\n",
    "            (pl.col(\"gameweek\") - current_gw + 1).alias(\"gameweek\"),\n",
    "            avg_difficulty=pl.col(\"difficulty\").cum_sum()\n",
    "            / pl.col(\"difficulty\").cum_count(),\n",
    "        )\n",
    "        .filter(pl.col(\"gameweek\") == n_gameweeks)\n",
    "        .get_column(\"avg_difficulty\")\n",
    "    )\n",
    "\n",
    "    return output"
   ]
  },
  {
   "cell_type": "code",
   "execution_count": 19,
   "id": "9157e17e",
   "metadata": {},
   "outputs": [
    {
     "data": {
      "text/html": [
       "<div><style>\n",
       ".dataframe > thead > tr,\n",
       ".dataframe > tbody > tr {\n",
       "  text-align: right;\n",
       "  white-space: pre-wrap;\n",
       "}\n",
       "</style>\n",
       "<small>shape: (1,)</small><table border=\"1\" class=\"dataframe\"><thead><tr><th>avg_difficulty</th></tr><tr><td>f64</td></tr></thead><tbody><tr><td>3.0</td></tr></tbody></table></div>"
      ],
      "text/plain": [
       "shape: (1,)\n",
       "Series: 'avg_difficulty' [f64]\n",
       "[\n",
       "\t3.0\n",
       "]"
      ]
     },
     "execution_count": 19,
     "metadata": {},
     "output_type": "execute_result"
    }
   ],
   "source": [
    "avg_difficulty(team_fixtures=team_fixtures[\"CHE\"], n_gameweeks=3, current_gw=3)"
   ]
  },
  {
   "cell_type": "code",
   "execution_count": 10,
   "id": "1eefad06",
   "metadata": {},
   "outputs": [
    {
     "data": {
      "text/html": [
       "<div><style>\n",
       ".dataframe > thead > tr,\n",
       ".dataframe > tbody > tr {\n",
       "  text-align: right;\n",
       "  white-space: pre-wrap;\n",
       "}\n",
       "</style>\n",
       "<small>shape: (38, 5)</small><table border=\"1\" class=\"dataframe\"><thead><tr><th>gameweek</th><th>team</th><th>opponent</th><th>home</th><th>difficulty</th></tr><tr><td>i64</td><td>str</td><td>str</td><td>bool</td><td>i64</td></tr></thead><tbody><tr><td>1</td><td>&quot;CHE&quot;</td><td>&quot;CRY&quot;</td><td>true</td><td>3</td></tr><tr><td>2</td><td>&quot;CHE&quot;</td><td>&quot;WHU&quot;</td><td>false</td><td>2</td></tr><tr><td>3</td><td>&quot;CHE&quot;</td><td>&quot;FUL&quot;</td><td>true</td><td>3</td></tr><tr><td>4</td><td>&quot;CHE&quot;</td><td>&quot;BRE&quot;</td><td>false</td><td>3</td></tr><tr><td>5</td><td>&quot;CHE&quot;</td><td>&quot;MUN&quot;</td><td>false</td><td>3</td></tr><tr><td>&hellip;</td><td>&hellip;</td><td>&hellip;</td><td>&hellip;</td><td>&hellip;</td></tr><tr><td>34</td><td>&quot;CHE&quot;</td><td>&quot;BHA&quot;</td><td>false</td><td>3</td></tr><tr><td>35</td><td>&quot;CHE&quot;</td><td>&quot;NFO&quot;</td><td>true</td><td>3</td></tr><tr><td>36</td><td>&quot;CHE&quot;</td><td>&quot;LIV&quot;</td><td>false</td><td>5</td></tr><tr><td>37</td><td>&quot;CHE&quot;</td><td>&quot;TOT&quot;</td><td>true</td><td>3</td></tr><tr><td>38</td><td>&quot;CHE&quot;</td><td>&quot;SUN&quot;</td><td>false</td><td>2</td></tr></tbody></table></div>"
      ],
      "text/plain": [
       "shape: (38, 5)\n",
       "┌──────────┬──────┬──────────┬───────┬────────────┐\n",
       "│ gameweek ┆ team ┆ opponent ┆ home  ┆ difficulty │\n",
       "│ ---      ┆ ---  ┆ ---      ┆ ---   ┆ ---        │\n",
       "│ i64      ┆ str  ┆ str      ┆ bool  ┆ i64        │\n",
       "╞══════════╪══════╪══════════╪═══════╪════════════╡\n",
       "│ 1        ┆ CHE  ┆ CRY      ┆ true  ┆ 3          │\n",
       "│ 2        ┆ CHE  ┆ WHU      ┆ false ┆ 2          │\n",
       "│ 3        ┆ CHE  ┆ FUL      ┆ true  ┆ 3          │\n",
       "│ 4        ┆ CHE  ┆ BRE      ┆ false ┆ 3          │\n",
       "│ 5        ┆ CHE  ┆ MUN      ┆ false ┆ 3          │\n",
       "│ …        ┆ …    ┆ …        ┆ …     ┆ …          │\n",
       "│ 34       ┆ CHE  ┆ BHA      ┆ false ┆ 3          │\n",
       "│ 35       ┆ CHE  ┆ NFO      ┆ true  ┆ 3          │\n",
       "│ 36       ┆ CHE  ┆ LIV      ┆ false ┆ 5          │\n",
       "│ 37       ┆ CHE  ┆ TOT      ┆ true  ┆ 3          │\n",
       "│ 38       ┆ CHE  ┆ SUN      ┆ false ┆ 2          │\n",
       "└──────────┴──────┴──────────┴───────┴────────────┘"
      ]
     },
     "execution_count": 10,
     "metadata": {},
     "output_type": "execute_result"
    }
   ],
   "source": [
    "team_fixtures[\"CHE\"]"
   ]
  }
 ],
 "metadata": {
  "kernelspec": {
   "display_name": "fpl",
   "language": "python",
   "name": "python3"
  },
  "language_info": {
   "codemirror_mode": {
    "name": "ipython",
    "version": 3
   },
   "file_extension": ".py",
   "mimetype": "text/x-python",
   "name": "python",
   "nbconvert_exporter": "python",
   "pygments_lexer": "ipython3",
   "version": "3.13.5"
  }
 },
 "nbformat": 4,
 "nbformat_minor": 5
}
